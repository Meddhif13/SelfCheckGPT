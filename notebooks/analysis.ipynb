{
 "cells": [
  {
   "cell_type": "markdown",
   "id": "f7e11104",
   "metadata": {},
   "source": [
    "# SelfCheckGPT Overnight Analysis (Repro Appendix)\n",
    "This notebook loads the overnight summary.csv files and displays key tables and figures."
   ]
  },
  {
   "cell_type": "code",
   "execution_count": null,
   "id": "50c6350f",
   "metadata": {},
   "outputs": [],
   "source": [
    "import pandas as pd\n",
    "from pathlib import Path\n",
    "from IPython.display import display, Image, Markdown"
   ]
  },
  {
   "cell_type": "code",
   "execution_count": null,
   "id": "3e0a4246",
   "metadata": {},
   "outputs": [],
   "source": [
    "root = Path('results/overnight/20250814_184213')\n",
    "offline = root / 'offline' / 'gpu_demo_smoke_tuned' / 'summary.csv'\n",
    "online_prompt = root / 'online' / 'prompt_smoke_gpt-4o-mini' / 'summary.csv'\n",
    "online_resample = root / 'online' / 'resample_smoke_gpt-4o-mini' / 'summary.csv'\n",
    "online_combined100 = root / 'online' / 'combined_100_gpt-4o-mini' / 'summary.csv'\n",
    "assert offline.exists(), f'Missing {offline}'\n",
    "assert online_prompt.exists(), f'Missing {online_prompt}'\n",
    "assert online_resample.exists(), f'Missing {online_resample}'\n",
    "assert online_combined100.exists(), f'Missing {online_combined100}'"
   ]
  },
  {
   "cell_type": "code",
   "execution_count": null,
   "id": "65fbb583",
   "metadata": {},
   "outputs": [],
   "source": [
    "df_offline = pd.read_csv(offline)\n",
    "df_prompt = pd.read_csv(online_prompt)\n",
    "df_resample = pd.read_csv(online_resample)\n",
    "df_comb100 = pd.read_csv(online_combined100)\n",
    "for name, df in [('offline', df_offline), ('prompt_smoke', df_prompt), ('resample_smoke', df_resample), ('combined_100', df_comb100)]:\n",
    "    display(Markdown(f'### {name}'))\n",
    "    display(df[['metric','average_precision','brier','f1','precision','recall','threshold']])"
   ]
  },
  {
   "cell_type": "markdown",
   "id": "e3fa72da",
   "metadata": {},
   "source": [
    "## Key Figures"
   ]
  },
  {
   "cell_type": "code",
   "execution_count": null,
   "id": "77ed6fae",
   "metadata": {},
   "outputs": [],
   "source": [
    "# Display a few representative plots inline\n",
    "display(Image(filename=str(root / 'offline' / 'gpu_demo_smoke_tuned' / 'combined_pr.png')))\n",
    "display(Image(filename=str(root / 'offline' / 'gpu_demo_smoke_tuned' / 'combined_calibration.png')))\n",
    "display(Image(filename=str(root / 'online' / 'prompt_smoke_gpt-4o-mini' / 'prompt_pr.png')))\n",
    "display(Image(filename=str(root / 'online' / 'combined_100_gpt-4o-mini' / 'combined_pr.png')))"
   ]
  }
 ],
 "metadata": {
  "language_info": {
   "name": "python"
  }
 },
 "nbformat": 4,
 "nbformat_minor": 5
}
